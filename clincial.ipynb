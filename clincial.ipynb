{
 "cells": [
  {
   "cell_type": "code",
   "execution_count": 1,
   "metadata": {},
   "outputs": [],
   "source": [
    "import json\n",
    "import pandas as pd\n",
    "import numpy as np\n",
    "import wget\n",
    "import os\n",
    "import zipfile\n",
    "import json\n",
    "from collections import ChainMap\n",
    "import tqdm"
   ]
  },
  {
   "cell_type": "code",
   "execution_count": 45,
   "metadata": {},
   "outputs": [],
   "source": [
    "def check_download_format():\n",
    "    \"\"\"Function to process and download clinicaltrial Gov Files,Currenty it process 1000 requests\n",
    "\n",
    "    Returns:\n",
    "        pd.DataFrame: Selected columns from clincalTrial Gov\n",
    "    \"\"\"\n",
    "    if 'AllAPIJSON.zip' not in os.listdir():    \n",
    "        url = 'https://ClinicalTrials.gov/AllAPIJSON.zip'\n",
    "        filename = wget.download(url)\n",
    "    else:\n",
    "        print('file already present')\n",
    "    zip = zipfile.ZipFile('AllAPIJSON.zip', \"r\")\n",
    "    all_trials = [f for f in zip.namelist() if f.endswith('.json')]\n",
    "    print('Total Number of Trials is '+str(len(all_trials)))\n",
    "    ## Reading\n",
    "    all_files = pd.DataFrame()\n",
    "    for f in tqdm.tqdm(all_trials[:1001]):\n",
    "        with zip.open(f) as file:\n",
    "            data_file = file.read()\n",
    "            d = json.loads(data_file.decode(\"utf-8\"))\n",
    "            data_file_pd = pd.json_normalize(d)\n",
    "            all_files = pd.concat([all_files,data_file_pd],ignore_index=True)\n",
    "    list_col = []\n",
    "    for col in all_files.columns:\n",
    "        if any(isinstance(f,list) for f in all_files[col].tolist()):\n",
    "            list_col.append(col)\n",
    "    return all_files[[col for col in all_files.columns if col not in list_col]]"
   ]
  },
  {
   "cell_type": "code",
   "execution_count": 46,
   "metadata": {},
   "outputs": [
    {
     "name": "stdout",
     "output_type": "stream",
     "text": [
      "file already present\n",
      "Total Number of Trials is 430807\n"
     ]
    },
    {
     "name": "stderr",
     "output_type": "stream",
     "text": [
      "100%|██████████| 1001/1001 [00:03<00:00, 261.84it/s]\n"
     ]
    }
   ],
   "source": [
    "test_trials = check_download_format()"
   ]
  },
  {
   "cell_type": "code",
   "execution_count": 48,
   "metadata": {},
   "outputs": [],
   "source": [
    "test_trials.to_pickle(\"trial.pkl\")"
   ]
  },
  {
   "cell_type": "code",
   "execution_count": null,
   "metadata": {},
   "outputs": [],
   "source": []
  }
 ],
 "metadata": {
  "kernelspec": {
   "display_name": "Python 3.9.12 ('base')",
   "language": "python",
   "name": "python3"
  },
  "language_info": {
   "codemirror_mode": {
    "name": "ipython",
    "version": 3
   },
   "file_extension": ".py",
   "mimetype": "text/x-python",
   "name": "python",
   "nbconvert_exporter": "python",
   "pygments_lexer": "ipython3",
   "version": "3.9.12"
  },
  "orig_nbformat": 4,
  "vscode": {
   "interpreter": {
    "hash": "ad2bdc8ecc057115af97d19610ffacc2b4e99fae6737bb82f5d7fb13d2f2c186"
   }
  }
 },
 "nbformat": 4,
 "nbformat_minor": 2
}
